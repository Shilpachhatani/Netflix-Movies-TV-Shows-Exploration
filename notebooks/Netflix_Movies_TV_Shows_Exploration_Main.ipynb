{
 "cells": [
  {
   "cell_type": "markdown",
   "id": "f52e40b7-9e0c-4f2a-8076-e0ebb74940b1",
   "metadata": {},
   "source": [
    "# Netflix Movies & TV Shows Exploration\n",
    "**Objective**:\n",
    "To explore the Netflix Movies and TV Shows dataset to uncover insights such as content distribution over time, type proportions (Movie vs TV Show), genre popularity, rating categories, content-producing countries, and content durations. The goal is to understand Netflix's content strategy using exploratory data analysis (EDA)."
   ]
  },
  {
   "cell_type": "code",
   "execution_count": null,
   "id": "e850e5fe-4fd5-4f09-aec0-28ac346043c0",
   "metadata": {},
   "outputs": [],
   "source": [
    "# Import libraries\n",
    "import pandas as pd\n",
    "import numpy as np\n",
    "import seaborn as sns\n",
    "import matplotlib.pyplot as plt\n",
    "from collections import Counter\n",
    "%matplotlib inline\n"
   ]
  },
  {
   "cell_type": "code",
   "execution_count": null,
   "id": "1797c336-7a90-4474-a5de-2a1bf8507717",
   "metadata": {},
   "outputs": [],
   "source": [
    "# Load Dataset\n",
    "df = pd.read_csv(\"../data/Netflix_movies_and_tv_shows.csv\")\n",
    "df.head()"
   ]
  },
  {
   "cell_type": "markdown",
   "id": "0179caaa-66d7-4b78-a46b-fbf510f9f40b",
   "metadata": {},
   "source": [
    "## Basic Overview"
   ]
  },
  {
   "cell_type": "code",
   "execution_count": null,
   "id": "f1e059b2-8cc7-4fed-a9d1-b78ad774df4e",
   "metadata": {},
   "outputs": [],
   "source": [
    "print(\"Dataset Shape:\", df.shape)"
   ]
  },
  {
   "cell_type": "code",
   "execution_count": null,
   "id": "4939ad3d-0491-43d3-bb52-b665231426b1",
   "metadata": {},
   "outputs": [],
   "source": [
    "print(\"\\nData Types:\\n\", df.dtypes)\n"
   ]
  },
  {
   "cell_type": "code",
   "execution_count": null,
   "id": "4f0bca1a-b836-4b70-a10d-b9f32ee82860",
   "metadata": {},
   "outputs": [],
   "source": [
    "print(\"\\nMissing Values:\\n\", df.isnull().sum())\n"
   ]
  },
  {
   "cell_type": "code",
   "execution_count": null,
   "id": "2e243af4-c7b3-4499-bb52-b6ccc9b57913",
   "metadata": {},
   "outputs": [],
   "source": [
    "print(\"Duplicate Rows:\", df.duplicated().sum())\n"
   ]
  },
  {
   "cell_type": "markdown",
   "id": "d7f4712d-df1b-4e61-a113-599676cf549b",
   "metadata": {},
   "source": [
    "## Data Cleaning"
   ]
  },
  {
   "cell_type": "code",
   "execution_count": null,
   "id": "47ec3082-35ca-4ced-a003-3f289e0e8a65",
   "metadata": {},
   "outputs": [],
   "source": [
    "# Remove leading/trailing whitespace from date_added\n",
    "df['date_added'] = df['date_added'].str.strip()\n",
    "\n",
    "# Then safely convert to datetime\n",
    "df['date_added'] = pd.to_datetime(df['date_added'], errors='coerce')  # 'coerce' will turn invalid entries into NaT\n",
    "df.head()"
   ]
  },
  {
   "cell_type": "code",
   "execution_count": null,
   "id": "86b93e4e-aa83-4628-84be-91e0fc347369",
   "metadata": {},
   "outputs": [],
   "source": [
    "# Fill missing values with appropriate placeholders\n",
    "df['director'].fillna('Unknown', inplace=True)\n",
    "df['cast'].fillna('Unknown', inplace=True)\n",
    "df['country'].fillna('Unknown', inplace=True)\n",
    "df['rating'].fillna('Unrated', inplace=True)\n"
   ]
  },
  {
   "cell_type": "code",
   "execution_count": null,
   "id": "dba27894-b474-437f-b5f5-fb35e1b1220b",
   "metadata": {},
   "outputs": [],
   "source": [
    "# Extract year from date_added\n",
    "df['year_added'] = df['date_added'].dt.year"
   ]
  },
  {
   "cell_type": "code",
   "execution_count": null,
   "id": "7c654c26-c6f3-4aa6-b515-99fe2050c2e6",
   "metadata": {},
   "outputs": [],
   "source": [
    "# Split duration into numeric and type (min/seasons)\n",
    "df['duration_num'] = df['duration'].str.extract(r'(\\\\d+)').astype(float)\n",
    "df['duration_type'] = df['duration'].str.extract(r'([a-zA-Z ]+)$').astype(str).apply(lambda x: x.str.strip())"
   ]
  },
  {
   "cell_type": "markdown",
   "id": "530dcc78-ad5d-4fb4-8c57-cb0dfcb79da9",
   "metadata": {},
   "source": [
    "## Visualization & Insights"
   ]
  },
  {
   "cell_type": "code",
   "execution_count": null,
   "id": "faef3c79-92ee-4ebc-b6ea-27f39b573a83",
   "metadata": {},
   "outputs": [],
   "source": [
    "#  Donut Chart: Type of Content (Movie vs TV Show)\n",
    "type_counts = df['type'].value_counts()\n",
    "labels = type_counts.index\n",
    "sizes = type_counts.values\n",
    "colors = ['#ff9999', '#66b3ff']\n",
    "\n",
    "plt.figure(figsize=(6, 6))\n",
    "plt.pie(sizes, labels=labels, autopct='%1.1f%%', startangle=90,\n",
    "        colors=colors, wedgeprops=dict(width=0.4))\n",
    "plt.title('Distribution of Movies vs TV Shows')\n",
    "plt.axis('equal')\n",
    "plt.show()\n"
   ]
  },
  {
   "cell_type": "markdown",
   "id": "aad0c3bb-d445-4c75-86e6-3fac80b90b35",
   "metadata": {},
   "source": [
    "**Insight:**\n",
    "Netflix hosts 69.1% Movies and 30.9% TV Shows, indicating a strong focus on film content."
   ]
  },
  {
   "cell_type": "code",
   "execution_count": null,
   "id": "78a9e38a-0f90-45de-b467-98d8a464fcb4",
   "metadata": {},
   "outputs": [],
   "source": [
    "# Ratings Distribution\n",
    "df['rating'].value_counts().head(10).plot(kind='bar', color='coral')\n",
    "plt.title(\"Top 10 Content Ratings\")\n",
    "plt.xlabel(\"Rating\")\n",
    "plt.ylabel(\"Count\")\n",
    "plt.xticks(rotation=45)\n",
    "plt.show()\n"
   ]
  },
  {
   "cell_type": "markdown",
   "id": "bd0b2cc3-8450-401b-8e9a-2bbd4d4441ca",
   "metadata": {},
   "source": [
    "**Insight:**\n",
    "TV-MA and TV-14 are the most frequent, showing a large amount of teen and adult-oriented content."
   ]
  },
  {
   "cell_type": "code",
   "execution_count": null,
   "id": "0174746e-9cba-4e99-98da-387d80a9c3b1",
   "metadata": {},
   "outputs": [],
   "source": [
    "# Top 10 Genres \n",
    "genres = df['listed_in'].str.split(', ').explode()\n",
    "top_genres = pd.DataFrame(Counter(genres).most_common(10), columns=['Genre', 'Count'])\n",
    "\n",
    "sns.barplot(data=top_genres, x='Count', y='Genre', hue='Genre', palette='Blues_d', legend=False)\n",
    "plt.title(\"Top 10 Most Common Genres on Netflix\")\n",
    "plt.xlabel(\"Number of Titles\")\n",
    "plt.ylabel(\"Genre\")\n",
    "plt.show()\n"
   ]
  },
  {
   "cell_type": "markdown",
   "id": "e5b98743-7754-47e1-8cfd-b642ceb99c84",
   "metadata": {},
   "source": [
    "**Insight:**\n",
    "Netflix's top genres are International Movies, Dramas, Comedies, and Documentaries, showing they cater to varied interests."
   ]
  },
  {
   "cell_type": "code",
   "execution_count": null,
   "id": "4317a6a7-b59d-4a61-aef7-fa746dfbcc9c",
   "metadata": {},
   "outputs": [],
   "source": [
    "# Content Release Over Years\n",
    "sns.histplot(df['release_year'], bins=30, kde=False, color='green')\n",
    "plt.title(\"Content Releases Over the Years\")\n",
    "plt.xlabel(\"Release Year\")\n",
    "plt.ylabel(\"Count\")\n",
    "plt.show()\n"
   ]
  },
  {
   "cell_type": "markdown",
   "id": "3ba9cc24-9f41-4f82-a039-cac955c7a612",
   "metadata": {},
   "source": [
    "**Insight:**\n",
    "Most content was released post-2000, with peaks around 2016–2020. Netflix’s recent growth is significant."
   ]
  },
  {
   "cell_type": "code",
   "execution_count": null,
   "id": "2ccac95e-73bb-45d3-b871-e3340de1bfe9",
   "metadata": {},
   "outputs": [],
   "source": [
    "# Top 10 Countries Producing Netflix Content\n",
    "top_countries = df['country'].str.split(', ').explode().value_counts().head(10)\n",
    "top_countries.plot(kind='barh', color='skyblue')\n",
    "plt.title(\"Top 10 Countries Producing Netflix Content\")\n",
    "plt.xlabel(\"Number of Titles\")\n",
    "plt.gca().invert_yaxis()\n",
    "plt.show()\n"
   ]
  },
  {
   "cell_type": "markdown",
   "id": "5a4f8fdd-7e30-476d-b107-6a5d74c95764",
   "metadata": {},
   "source": [
    "**Insight:**\n",
    "USA is the leading content producer, with India and the U.K. also major contributors, proving Netflix's worldwide reach."
   ]
  },
  {
   "cell_type": "markdown",
   "id": "ceabcde9-bff3-4d1f-97d0-ae960b7f031f",
   "metadata": {},
   "source": [
    "# ✅ Final Conclusion\n",
    "Netflix mostly focuses on movies, and many of them are made for adults (TV-MA). Most of the content is from the United States, but Netflix is also adding more shows and movies from countries like India, the UK, and others.\n",
    "\n",
    "The most popular genres on Netflix are International Movies, Dramas, Comedies, International Dramas, and Documentaries. A lot of this content was added after 2016, which shows Netflix has grown a lot in recent years.\n",
    "\n",
    "This exploratory data analysis provides a clear picture of what kind of content Netflix offers around the world."
   ]
  }
 ],
 "metadata": {
  "kernelspec": {
   "display_name": "Python 3 (ipykernel)",
   "language": "python",
   "name": "python3"
  },
  "language_info": {
   "codemirror_mode": {
    "name": "ipython",
    "version": 3
   },
   "file_extension": ".py",
   "mimetype": "text/x-python",
   "name": "python",
   "nbconvert_exporter": "python",
   "pygments_lexer": "ipython3",
   "version": "3.8.10"
  }
 },
 "nbformat": 4,
 "nbformat_minor": 5
}
